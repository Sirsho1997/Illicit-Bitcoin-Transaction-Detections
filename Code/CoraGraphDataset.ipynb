{
 "cells": [
  {
   "cell_type": "code",
   "execution_count": 2,
   "id": "03bdd406-d7bf-40db-af16-f88075601a6b",
   "metadata": {},
   "outputs": [],
   "source": [
    "import dgl\n",
    "import torch\n",
    "import torch.nn as nn\n",
    "import torch.nn.functional as F\n",
    "import itertools\n",
    "import numpy as np\n",
    "import urllib.request\n",
    "import pandas as pd\n",
    "import scipy.sparse as sp\n",
    "import os"
   ]
  },
  {
   "cell_type": "code",
   "execution_count": 7,
   "id": "33de4534-3d3e-4981-a0b6-68c65631a11b",
   "metadata": {},
   "outputs": [
    {
     "name": "stdout",
     "output_type": "stream",
     "text": [
      "Finished data loading and preprocessing.\n",
      "  NumNodes: 2708\n",
      "  NumEdges: 10556\n",
      "  NumFeats: 1433\n",
      "  NumClasses: 7\n",
      "  NumTrainingSamples: 140\n",
      "  NumValidationSamples: 500\n",
      "  NumTestSamples: 1000\n",
      "Done saving data into cached files.\n"
     ]
    }
   ],
   "source": [
    "import dgl.data\n",
    "\n",
    "dataset = dgl.data.CoraGraphDataset()\n",
    "g = dataset[0]"
   ]
  },
  {
   "cell_type": "code",
   "execution_count": 8,
   "id": "e660f232-bed1-411f-9c89-2af7e77c57e5",
   "metadata": {},
   "outputs": [],
   "source": [
    "g = dataset[0]"
   ]
  },
  {
   "cell_type": "code",
   "execution_count": 9,
   "id": "4987f6a5-7ca3-4f67-a6bb-c61eaf90e35f",
   "metadata": {},
   "outputs": [
    {
     "data": {
      "text/plain": [
       "Graph(num_nodes=2708, num_edges=10556,\n",
       "      ndata_schemes={'train_mask': Scheme(shape=(), dtype=torch.bool), 'val_mask': Scheme(shape=(), dtype=torch.bool), 'test_mask': Scheme(shape=(), dtype=torch.bool), 'label': Scheme(shape=(), dtype=torch.int64), 'feat': Scheme(shape=(1433,), dtype=torch.float32)}\n",
       "      edata_schemes={})"
      ]
     },
     "execution_count": 9,
     "metadata": {},
     "output_type": "execute_result"
    }
   ],
   "source": [
    "g"
   ]
  },
  {
   "cell_type": "code",
   "execution_count": 10,
   "id": "501334fb-e460-4513-afa9-1819cfbba8af",
   "metadata": {},
   "outputs": [],
   "source": [
    "# Positive edges\n",
    "u, v = g.edges()\n",
    "\n",
    "eids = np.arange(g.number_of_edges())\n",
    "eids = np.random.permutation(eids)\n",
    "test_size = int(len(eids) * 0.1)\n",
    "train_size = g.number_of_edges() - test_size\n",
    "test_pos_u, test_pos_v = u[eids[:test_size]], v[eids[:test_size]]\n",
    "train_pos_u, train_pos_v = u[eids[test_size:]], v[eids[test_size:]]\n",
    "\n",
    "train_pos_g = dgl.graph((train_pos_u, train_pos_v), num_nodes=g.number_of_nodes())\n",
    "test_pos_g = dgl.graph((test_pos_u, test_pos_v), num_nodes=g.number_of_nodes())"
   ]
  },
  {
   "cell_type": "code",
   "execution_count": 11,
   "id": "b98eee3f-2f4b-4ea5-a9e3-aa125a3b3cbc",
   "metadata": {},
   "outputs": [
    {
     "data": {
      "text/plain": [
       "Graph(num_nodes=2708, num_edges=9501,\n",
       "      ndata_schemes={}\n",
       "      edata_schemes={})"
      ]
     },
     "execution_count": 11,
     "metadata": {},
     "output_type": "execute_result"
    }
   ],
   "source": [
    "train_pos_g"
   ]
  },
  {
   "cell_type": "code",
   "execution_count": 12,
   "id": "a6f236e1-292c-43e9-9e45-80cae2a09826",
   "metadata": {},
   "outputs": [
    {
     "data": {
      "text/plain": [
       "Graph(num_nodes=2708, num_edges=1055,\n",
       "      ndata_schemes={}\n",
       "      edata_schemes={})"
      ]
     },
     "execution_count": 12,
     "metadata": {},
     "output_type": "execute_result"
    }
   ],
   "source": [
    "test_pos_g"
   ]
  },
  {
   "cell_type": "code",
   "execution_count": 13,
   "id": "37981c26-58ff-459f-be04-9a9dd5557390",
   "metadata": {},
   "outputs": [],
   "source": [
    "\n",
    "neg_u1 = np.repeat(g.nodes(),g.out_degrees(g.nodes()))[::]\n",
    "neg_v1 = np.random.choice(g.num_nodes(), len(neg_u1))\n",
    "train_neg_g = dgl.graph((neg_u1, neg_v1), num_nodes=g.number_of_nodes())\n",
    "\n",
    "#neg_u1 = np.repeat(g.nodes(),1)[::2]\n",
    "neg_u1 = np.random.choice(g.num_nodes(), test_size)\n",
    "neg_v1 = np.random.choice(g.num_nodes(), len(neg_u1))\n",
    "test_neg_g = dgl.graph((neg_u1, neg_v1), num_nodes=g.number_of_nodes())"
   ]
  },
  {
   "cell_type": "code",
   "execution_count": 14,
   "id": "4b0696f4-3493-42b3-a501-b08178ed0310",
   "metadata": {},
   "outputs": [
    {
     "data": {
      "text/plain": [
       "Graph(num_nodes=2708, num_edges=10556,\n",
       "      ndata_schemes={}\n",
       "      edata_schemes={})"
      ]
     },
     "execution_count": 14,
     "metadata": {},
     "output_type": "execute_result"
    }
   ],
   "source": [
    "train_neg_g"
   ]
  },
  {
   "cell_type": "code",
   "execution_count": 15,
   "id": "a73e8f51-6da9-4a15-ae36-098cf1f79b4c",
   "metadata": {},
   "outputs": [
    {
     "data": {
      "text/plain": [
       "Graph(num_nodes=2708, num_edges=1055,\n",
       "      ndata_schemes={}\n",
       "      edata_schemes={})"
      ]
     },
     "execution_count": 15,
     "metadata": {},
     "output_type": "execute_result"
    }
   ],
   "source": [
    "test_neg_g"
   ]
  },
  {
   "cell_type": "code",
   "execution_count": 16,
   "id": "9bb3990b-e17c-4424-b66d-2037d10b97ae",
   "metadata": {},
   "outputs": [],
   "source": [
    "train_g = dgl.remove_edges(g, eids[:test_size])"
   ]
  },
  {
   "cell_type": "code",
   "execution_count": 17,
   "id": "a486ae43-8dfc-40f5-a31d-25e3606d075c",
   "metadata": {},
   "outputs": [],
   "source": [
    "from dgl.nn import SAGEConv\n",
    "\n",
    "# ----------- 2. create model -------------- #\n",
    "# build a two-layer GraphSAGE model\n",
    "class GraphSAGE(nn.Module):\n",
    "    def __init__(self, in_feats, h_feats):\n",
    "        super(GraphSAGE, self).__init__()\n",
    "        self.conv1 = SAGEConv(in_feats, h_feats, 'mean')\n",
    "        self.conv2 = SAGEConv(h_feats, h_feats, 'mean')\n",
    "\n",
    "    def forward(self, g, in_feat):\n",
    "        h = self.conv1(g, in_feat)\n",
    "        h = F.relu(h)\n",
    "        h = self.conv2(g, h)\n",
    "        return h\n",
    "    "
   ]
  },
  {
   "cell_type": "code",
   "execution_count": 18,
   "id": "ddc2af19-ecf5-45f2-a63f-c83b31a3354f",
   "metadata": {},
   "outputs": [],
   "source": [
    "import dgl.function as fn\n",
    "\n",
    "class DotPredictor(nn.Module):\n",
    "    def forward(self, g, h):\n",
    "        with g.local_scope():\n",
    "            g.ndata['h'] = h\n",
    "            # Compute a new edge feature named 'score' by a dot-product between the\n",
    "            # source node feature 'h' and destination node feature 'h'.\n",
    "            g.apply_edges(fn.u_dot_v('h', 'h', 'score'))\n",
    "            # u_dot_v returns a 1-element vector for each edge so you need to squeeze it.\n",
    "            return g.edata['score'][:, 0]"
   ]
  },
  {
   "cell_type": "code",
   "execution_count": 19,
   "id": "602cd782-eb41-44e2-ac50-6917529f25ad",
   "metadata": {},
   "outputs": [],
   "source": [
    "class MLPPredictor(nn.Module):\n",
    "    def __init__(self, h_feats):\n",
    "        super().__init__()\n",
    "        self.W1 = nn.Linear(h_feats * 2, h_feats)\n",
    "        self.W2 = nn.Linear(h_feats, 1)\n",
    "\n",
    "    def apply_edges(self, edges):\n",
    "        \"\"\"\n",
    "        Computes a scalar score for each edge of the given graph.\n",
    "\n",
    "        Parameters\n",
    "        ----------\n",
    "        edges :\n",
    "            Has three members ``src``, ``dst`` and ``data``, each of\n",
    "            which is a dictionary representing the features of the\n",
    "            source nodes, the destination nodes, and the edges\n",
    "            themselves.\n",
    "\n",
    "        Returns\n",
    "        -------\n",
    "        dict\n",
    "            A dictionary of new edge features.\n",
    "        \"\"\"\n",
    "        h = torch.cat([edges.src['h'], edges.dst['h']], 1)\n",
    "        return {'score': self.W2(F.relu(self.W1(h))).squeeze(1)}\n",
    "\n",
    "    def forward(self, g, h):\n",
    "        with g.local_scope():\n",
    "            g.ndata['h'] = h\n",
    "            g.apply_edges(self.apply_edges)\n",
    "            return g.edata['score']"
   ]
  },
  {
   "cell_type": "code",
   "execution_count": 20,
   "id": "a0ac39b4-1b7e-43f3-adf7-8a04d05f9931",
   "metadata": {},
   "outputs": [],
   "source": [
    "model = GraphSAGE(train_g.ndata['feat'].shape[1], 16)\n",
    "# You can replace DotPredictor with MLPPredictor.\n",
    "#pred = MLPPredictor(16)\n",
    "pred = DotPredictor()\n",
    "\n",
    "def compute_loss(pos_score, neg_score):\n",
    "    scores = torch.cat([pos_score, neg_score])\n",
    "    labels = torch.cat([torch.ones(pos_score.shape[0]), torch.zeros(neg_score.shape[0])])\n",
    "    return F.binary_cross_entropy_with_logits(scores, labels)\n",
    "\n",
    "def compute_auc(pos_score, neg_score):\n",
    "    scores = torch.cat([pos_score, neg_score]).numpy()\n",
    "    labels = torch.cat(\n",
    "        [torch.ones(pos_score.shape[0]), torch.zeros(neg_score.shape[0])]).numpy()\n",
    "    return roc_auc_score(labels, scores)"
   ]
  },
  {
   "cell_type": "code",
   "execution_count": 21,
   "id": "41b70f7c-01a5-46a3-a243-bdd377a8bd4c",
   "metadata": {},
   "outputs": [
    {
     "data": {
      "text/plain": [
       "GraphSAGE(\n",
       "  (conv1): SAGEConv(\n",
       "    (feat_drop): Dropout(p=0.0, inplace=False)\n",
       "    (fc_self): Linear(in_features=1433, out_features=16, bias=False)\n",
       "    (fc_neigh): Linear(in_features=1433, out_features=16, bias=False)\n",
       "  )\n",
       "  (conv2): SAGEConv(\n",
       "    (feat_drop): Dropout(p=0.0, inplace=False)\n",
       "    (fc_self): Linear(in_features=16, out_features=16, bias=False)\n",
       "    (fc_neigh): Linear(in_features=16, out_features=16, bias=False)\n",
       "  )\n",
       ")"
      ]
     },
     "execution_count": 21,
     "metadata": {},
     "output_type": "execute_result"
    }
   ],
   "source": [
    "model"
   ]
  },
  {
   "cell_type": "code",
   "execution_count": 24,
   "id": "e95c13d6-4e46-4092-bdd8-972ff04c0062",
   "metadata": {},
   "outputs": [
    {
     "name": "stderr",
     "output_type": "stream",
     "text": [
      "/Users/sganguly/opt/anaconda3/lib/python3.9/site-packages/torch/amp/autocast_mode.py:198: UserWarning: User provided device_type of 'cuda', but CUDA is not available. Disabling\n",
      "  warnings.warn('User provided device_type of \\'cuda\\', but CUDA is not available. Disabling')\n"
     ]
    },
    {
     "name": "stdout",
     "output_type": "stream",
     "text": [
      "In epoch 0, loss: 0.42548638582229614\n",
      "In epoch 25, loss: 0.5310391783714294\n",
      "In epoch 50, loss: 0.4571548104286194\n",
      "In epoch 75, loss: 0.44469067454338074\n",
      "In epoch 100, loss: 0.4400877356529236\n",
      "In epoch 125, loss: 0.43810033798217773\n",
      "In epoch 150, loss: 0.4366475045681\n",
      "In epoch 175, loss: 0.4355567991733551\n",
      "In epoch 200, loss: 0.4345090091228485\n",
      "In epoch 225, loss: 0.4327739179134369\n",
      "In epoch 250, loss: 0.43211451172828674\n",
      "In epoch 275, loss: 0.43260321021080017\n",
      "In epoch 300, loss: 0.43006631731987\n",
      "In epoch 325, loss: 0.4287421405315399\n",
      "In epoch 350, loss: 0.42793476581573486\n",
      "In epoch 375, loss: 0.42706504464149475\n",
      "In epoch 400, loss: 0.4278598129749298\n",
      "In epoch 425, loss: 0.42663881182670593\n",
      "In epoch 450, loss: 0.42597338557243347\n",
      "In epoch 475, loss: 0.4299991726875305\n",
      "In epoch 500, loss: 0.4256109297275543\n",
      "In epoch 525, loss: 0.43197891116142273\n",
      "In epoch 550, loss: 0.43211135268211365\n",
      "In epoch 575, loss: 0.4251275360584259\n",
      "In epoch 600, loss: 0.4266597032546997\n",
      "In epoch 625, loss: 0.4224865436553955\n",
      "In epoch 650, loss: 0.43360018730163574\n",
      "In epoch 675, loss: 0.429683655500412\n",
      "In epoch 700, loss: 0.42437100410461426\n",
      "In epoch 725, loss: 0.42259910702705383\n",
      "In epoch 750, loss: 0.4261122941970825\n",
      "In epoch 775, loss: 0.4325891435146332\n",
      "In epoch 800, loss: 0.42325282096862793\n",
      "In epoch 825, loss: 0.4222308099269867\n",
      "In epoch 850, loss: 0.43615588545799255\n",
      "In epoch 875, loss: 0.43086251616477966\n",
      "In epoch 900, loss: 0.42641860246658325\n",
      "In epoch 925, loss: 0.42543038725852966\n",
      "In epoch 950, loss: 0.4243021607398987\n",
      "In epoch 975, loss: 0.42381736636161804\n",
      "AUC 0.7401302756002786\n"
     ]
    }
   ],
   "source": [
    "# ----------- 3. set up loss and optimizer -------------- #\n",
    "# in this case, loss will in training loop\n",
    "optimizer = torch.optim.Adam(itertools.chain(model.parameters(), pred.parameters()), lr=0.1)\n",
    "\n",
    "# ----------- 4. training -------------------------------- #\n",
    "all_logits = []\n",
    "for e in range(1000):\n",
    "    # forward\n",
    "    h = model(train_g, train_g.ndata['feat'])\n",
    "    pos_score = pred(train_pos_g, h)\n",
    "    neg_score = pred(train_neg_g, h)\n",
    "    loss = compute_loss(pos_score, neg_score)\n",
    "\n",
    "    # backward\n",
    "    optimizer.zero_grad()\n",
    "    loss.backward()\n",
    "    optimizer.step()\n",
    "\n",
    "    if e % 25 == 0:\n",
    "        print('In epoch {}, loss: {}'.format(e, loss))\n",
    "\n",
    "# ----------- 5. check results ------------------------ #\n",
    "from sklearn.metrics import roc_auc_score\n",
    "with torch.no_grad():\n",
    "    pos_score = pred(test_pos_g, h)\n",
    "    neg_score = pred(test_neg_g, h)\n",
    "    print('AUC', compute_auc(pos_score, neg_score))\n",
    "\n",
    "\n",
    "# Thumbnail credits: Link Prediction with Neo4j, Mark Needham\n",
    "# sphinx_gallery_thumbnail_path = '_static/blitz_4_link_predict.png'"
   ]
  },
  {
   "cell_type": "code",
   "execution_count": null,
   "id": "bb7a43be-1682-4f18-8d3c-d997648de062",
   "metadata": {},
   "outputs": [],
   "source": []
  }
 ],
 "metadata": {
  "kernelspec": {
   "display_name": "Python 3 (ipykernel)",
   "language": "python",
   "name": "python3"
  },
  "language_info": {
   "codemirror_mode": {
    "name": "ipython",
    "version": 3
   },
   "file_extension": ".py",
   "mimetype": "text/x-python",
   "name": "python",
   "nbconvert_exporter": "python",
   "pygments_lexer": "ipython3",
   "version": "3.9.7"
  }
 },
 "nbformat": 4,
 "nbformat_minor": 5
}
